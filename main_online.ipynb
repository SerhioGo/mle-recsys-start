{
 "cells": [
  {
   "cell_type": "code",
   "execution_count": 1,
   "id": "30814dc5",
   "metadata": {},
   "outputs": [],
   "source": [
    "import logging\n",
    "\n",
    "import matplotlib.pyplot as plt\n",
    "import numpy as np\n",
    "import pandas as pd\n",
    "import scipy\n",
    "import sklearn.preprocessing\n"
   ]
  },
  {
   "cell_type": "code",
   "execution_count": 2,
   "id": "9d93b26c",
   "metadata": {},
   "outputs": [],
   "source": [
    "%matplotlib inline\n",
    "%config InlineBackend.figure_format = 'png'\n",
    "%config InlineBackend.figure_format = 'retina'"
   ]
  },
  {
   "cell_type": "code",
   "execution_count": 3,
   "id": "6c3ae569",
   "metadata": {},
   "outputs": [],
   "source": [
    "items = pd.read_parquet(\"items.par\")\n",
    "events = pd.read_parquet(\"events.par\")"
   ]
  },
  {
   "cell_type": "code",
   "execution_count": 4,
   "id": "45779816",
   "metadata": {},
   "outputs": [],
   "source": [
    "items = items.rename(columns = {'book_id': 'item_id'})"
   ]
  },
  {
   "cell_type": "code",
   "execution_count": 6,
   "id": "548c3bea",
   "metadata": {},
   "outputs": [
    {
     "ename": "NameError",
     "evalue": "name 'item_encoder' is not defined",
     "output_type": "error",
     "traceback": [
      "\u001b[0;31m---------------------------------------------------------------------------\u001b[0m",
      "\u001b[0;31mNameError\u001b[0m                                 Traceback (most recent call last)",
      "Cell \u001b[0;32mIn[6], line 1\u001b[0m\n\u001b[0;32m----> 1\u001b[0m items[\u001b[38;5;124m\"\u001b[39m\u001b[38;5;124mitem_id_enc\u001b[39m\u001b[38;5;124m\"\u001b[39m] \u001b[38;5;241m=\u001b[39m \u001b[43mitem_encoder\u001b[49m\u001b[38;5;241m.\u001b[39mtransform(items[\u001b[38;5;124m\"\u001b[39m\u001b[38;5;124mitem_id\u001b[39m\u001b[38;5;124m\"\u001b[39m])\n",
      "\u001b[0;31mNameError\u001b[0m: name 'item_encoder' is not defined"
     ]
    }
   ],
   "source": [
    "items[\"item_id_enc\"] = item_encoder.transform(items[\"item_id\"])"
   ]
  },
  {
   "cell_type": "code",
   "execution_count": 7,
   "id": "092452f8",
   "metadata": {},
   "outputs": [],
   "source": [
    "events = events.rename(columns = {'book_id': 'item_id'})"
   ]
  },
  {
   "cell_type": "code",
   "execution_count": 8,
   "id": "044ed6b0",
   "metadata": {},
   "outputs": [],
   "source": [
    "als_recommendations_2 = pd.read_parquet(\"candidates/inference/als_recommendations.parquet\")\n",
    "content_recommendations_2 = pd.read_parquet(\"candidates/inference/content_recommendations.parquet\")"
   ]
  },
  {
   "cell_type": "code",
   "execution_count": 9,
   "id": "ee78ae3f",
   "metadata": {},
   "outputs": [
    {
     "name": "stdout",
     "output_type": "stream",
     "text": [
      "428220 123223 120858\n"
     ]
    }
   ],
   "source": [
    "# зададим точку разбиения\n",
    "train_test_global_time_split_date = pd.to_datetime(\"2017-08-01\").date()\n",
    "\n",
    "train_test_global_time_split_idx = events[\"started_at\"] < train_test_global_time_split_date\n",
    "events_train = events[train_test_global_time_split_idx]\n",
    "events_test = events[~train_test_global_time_split_idx]\n",
    "\n",
    "# количество пользователей в train и test\n",
    "users_train = events_train[\"user_id\"].drop_duplicates()\n",
    "users_test = events_test[\"user_id\"].drop_duplicates()\n",
    "# количество пользователей, которые есть и в train, и в test\n",
    "common_users = list(set(users_train) & set(users_test))\n",
    "\n",
    "print(len(users_train), len(users_test), len(common_users))"
   ]
  },
  {
   "cell_type": "code",
   "execution_count": 10,
   "id": "3856ad15",
   "metadata": {},
   "outputs": [
    {
     "name": "stderr",
     "output_type": "stream",
     "text": [
      "/tmp/ipykernel_38359/3293259747.py:5: SettingWithCopyWarning: \n",
      "A value is trying to be set on a copy of a slice from a DataFrame.\n",
      "Try using .loc[row_indexer,col_indexer] = value instead\n",
      "\n",
      "See the caveats in the documentation: https://pandas.pydata.org/pandas-docs/stable/user_guide/indexing.html#returning-a-view-versus-a-copy\n",
      "  events_train[\"user_id_enc\"] = user_encoder.transform(events_train[\"user_id\"])\n",
      "/tmp/ipykernel_38359/3293259747.py:6: SettingWithCopyWarning: \n",
      "A value is trying to be set on a copy of a slice from a DataFrame.\n",
      "Try using .loc[row_indexer,col_indexer] = value instead\n",
      "\n",
      "See the caveats in the documentation: https://pandas.pydata.org/pandas-docs/stable/user_guide/indexing.html#returning-a-view-versus-a-copy\n",
      "  events_test[\"user_id_enc\"] = user_encoder.transform(events_test[\"user_id\"])\n",
      "/tmp/ipykernel_38359/3293259747.py:13: SettingWithCopyWarning: \n",
      "A value is trying to be set on a copy of a slice from a DataFrame.\n",
      "Try using .loc[row_indexer,col_indexer] = value instead\n",
      "\n",
      "See the caveats in the documentation: https://pandas.pydata.org/pandas-docs/stable/user_guide/indexing.html#returning-a-view-versus-a-copy\n",
      "  events_train[\"item_id_enc\"] = item_encoder.transform(events_train[\"item_id\"])\n",
      "/tmp/ipykernel_38359/3293259747.py:14: SettingWithCopyWarning: \n",
      "A value is trying to be set on a copy of a slice from a DataFrame.\n",
      "Try using .loc[row_indexer,col_indexer] = value instead\n",
      "\n",
      "See the caveats in the documentation: https://pandas.pydata.org/pandas-docs/stable/user_guide/indexing.html#returning-a-view-versus-a-copy\n",
      "  events_test[\"item_id_enc\"] = item_encoder.transform(events_test[\"item_id\"])\n"
     ]
    }
   ],
   "source": [
    "# перекодируем идентификаторы пользователей: \n",
    "# из имеющихся в последовательность 0, 1, 2, ...\n",
    "user_encoder = sklearn.preprocessing.LabelEncoder()\n",
    "user_encoder.fit(events[\"user_id\"])\n",
    "events_train[\"user_id_enc\"] = user_encoder.transform(events_train[\"user_id\"])\n",
    "events_test[\"user_id_enc\"] = user_encoder.transform(events_test[\"user_id\"])\n",
    "\n",
    "# перекодируем идентификаторы объектов: \n",
    "# из имеющихся в последовательность 0, 1, 2, ...\n",
    "item_encoder = sklearn.preprocessing.LabelEncoder()\n",
    "item_encoder.fit(items[\"item_id\"])\n",
    "items[\"item_id_enc\"] = item_encoder.transform(items[\"item_id\"])\n",
    "events_train[\"item_id_enc\"] = item_encoder.transform(events_train[\"item_id\"])\n",
    "events_test[\"item_id_enc\"] = item_encoder.transform(events_test[\"item_id\"])"
   ]
  },
  {
   "cell_type": "code",
   "execution_count": 11,
   "id": "28cb3704",
   "metadata": {},
   "outputs": [],
   "source": [
    "user_item_matrix_train = scipy.sparse.csr_matrix((\n",
    "    events_train[\"rating\"],\n",
    "    (events_train['user_id_enc'], events_train['item_id_enc'])),\n",
    "    dtype=np.int8)"
   ]
  },
  {
   "cell_type": "code",
   "execution_count": 12,
   "id": "66dab543",
   "metadata": {},
   "outputs": [
    {
     "name": "stderr",
     "output_type": "stream",
     "text": [
      "/home/mle-user/mle_projects/mle-recsys-start/env_recsys_start/lib/python3.10/site-packages/tqdm/auto.py:21: TqdmWarning: IProgress not found. Please update jupyter and ipywidgets. See https://ipywidgets.readthedocs.io/en/stable/user_install.html\n",
      "  from .autonotebook import tqdm as notebook_tqdm\n",
      "/home/mle-user/mle_projects/mle-recsys-start/env_recsys_start/lib/python3.10/site-packages/implicit/cpu/als.py:95: RuntimeWarning: OpenBLAS is configured to use 4 threads. It is highly recommended to disable its internal threadpool by setting the environment variable 'OPENBLAS_NUM_THREADS=1' or by calling 'threadpoolctl.threadpool_limits(1, \"blas\")'. Having OpenBLAS use a threadpool can lead to severe performance issues here.\n",
      "  check_blas_config()\n",
      "100%|██████████| 50/50 [02:51<00:00,  3.43s/it]\n"
     ]
    }
   ],
   "source": [
    "from implicit.als import AlternatingLeastSquares\n",
    "\n",
    "als_model = AlternatingLeastSquares(factors=50, iterations=50, regularization=0.05, random_state=0)\n",
    "als_model.fit(user_item_matrix_train)"
   ]
  },
  {
   "cell_type": "code",
   "execution_count": 13,
   "id": "369be595",
   "metadata": {},
   "outputs": [],
   "source": [
    "# получим энкодированные идентификаторы всех объектов, известных нам из events_train\n",
    "train_item_ids_enc = events_train['item_id_enc'].unique()\n",
    "\n",
    "max_similar_items = 10\n",
    "\n",
    "# получаем списки похожих объектов, используя ранее полученную ALS-модель\n",
    "# метод similar_items возвращает и сам объект, как наиболее похожий\n",
    "# этот объект мы позже отфильтруем, но сейчас запросим на 1 больше\n",
    "similar_items = als_model.similar_items(train_item_ids_enc, N=max_similar_items+1)"
   ]
  },
  {
   "cell_type": "code",
   "execution_count": 14,
   "id": "abcc4951",
   "metadata": {},
   "outputs": [],
   "source": [
    "# преобразуем полученные списки в табличный формат\n",
    "sim_item_item_ids_enc = similar_items[0]\n",
    "sim_item_scores = similar_items[1]"
   ]
  },
  {
   "cell_type": "code",
   "execution_count": 15,
   "id": "d321288e",
   "metadata": {},
   "outputs": [
    {
     "data": {
      "text/plain": [
       "array([[1.0000001 , 0.95125335, 0.8540178 , ..., 0.81872267, 0.80396605,\n",
       "        0.80324185],\n",
       "       [1.0000001 , 0.9546376 , 0.838513  , ..., 0.68106806, 0.6803669 ,\n",
       "        0.6547966 ],\n",
       "       [0.9999998 , 0.9602783 , 0.89107066, ..., 0.8659329 , 0.8564599 ,\n",
       "        0.85495627],\n",
       "       ...,\n",
       "       [0.99999994, 0.62158924, 0.6183891 , ..., 0.57913935, 0.57824594,\n",
       "        0.57546216],\n",
       "       [1.        , 0.6781922 , 0.6698133 , ..., 0.6137276 , 0.6074815 ,\n",
       "        0.6061272 ],\n",
       "       [1.        , 0.95466363, 0.95251894, ..., 0.9215702 , 0.9214201 ,\n",
       "        0.9205395 ]], dtype=float32)"
      ]
     },
     "execution_count": 15,
     "metadata": {},
     "output_type": "execute_result"
    }
   ],
   "source": [
    "sim_item_scores"
   ]
  },
  {
   "cell_type": "code",
   "execution_count": 25,
   "id": "250f7068",
   "metadata": {},
   "outputs": [],
   "source": [
    "similar_items = pd.DataFrame({\n",
    "    \"item_id_enc\": train_item_ids_enc,\n",
    "    \"sim_item_id_enc\": sim_item_item_ids_enc.tolist(), \n",
    "    \"score\": sim_item_scores.tolist()\n",
    "    })\n",
    "similar_items = similar_items.explode([\"sim_item_id_enc\", \"score\"], ignore_index=True)"
   ]
  },
  {
   "cell_type": "code",
   "execution_count": 28,
   "id": "079f71a2",
   "metadata": {},
   "outputs": [],
   "source": [
    "# приводим типы данных\n",
    "similar_items[\"sim_item_id_enc\"] = similar_items[\"sim_item_id_enc\"].astype('int32')\n",
    "similar_items[\"score\"] = similar_items[\"score\"].astype(\"float\")"
   ]
  },
  {
   "cell_type": "code",
   "execution_count": 32,
   "id": "871761e5",
   "metadata": {},
   "outputs": [],
   "source": [
    "# получаем изначальные идентификаторы\n",
    "similar_items[\"item_id_1\"] = item_encoder.inverse_transform(similar_items[\"item_id_enc\"])\n",
    "similar_items[\"item_id_2\"] = item_encoder.inverse_transform(similar_items[\"sim_item_id_enc\"])\n"
   ]
  },
  {
   "cell_type": "code",
   "execution_count": 33,
   "id": "906023ae",
   "metadata": {},
   "outputs": [],
   "source": [
    "similar_items = similar_items.drop(columns=[\"item_id_enc\", \"sim_item_id_enc\"])"
   ]
  },
  {
   "cell_type": "code",
   "execution_count": 34,
   "id": "7bab8365",
   "metadata": {},
   "outputs": [],
   "source": [
    "# убираем пары с одинаковыми объектами\n",
    "similar_items = similar_items.query(\"item_id_1 != item_id_2\")"
   ]
  },
  {
   "cell_type": "code",
   "execution_count": 35,
   "id": "454441e4",
   "metadata": {},
   "outputs": [
    {
     "data": {
      "application/vnd.microsoft.datawrangler.viewer.v0+json": {
       "columns": [
        {
         "name": "index",
         "rawType": "int64",
         "type": "integer"
        },
        {
         "name": "item_id_2",
         "rawType": "int64",
         "type": "integer"
        }
       ],
       "ref": "aa2562ea-b9fd-4322-aad4-2f2b9ac9f55f",
       "rows": [
        [
         "10385",
         "7190"
        ],
        [
         "10386",
         "24280"
        ],
        [
         "10387",
         "1953"
        ],
        [
         "10388",
         "58696"
        ],
        [
         "10389",
         "38296"
        ],
        [
         "10390",
         "2932"
        ],
        [
         "10391",
         "7184"
        ],
        [
         "10392",
         "387749"
        ],
        [
         "10393",
         "7733"
        ],
        [
         "10394",
         "30597"
        ]
       ],
       "shape": {
        "columns": 1,
        "rows": 10
       }
      },
      "text/plain": [
       "10385      7190\n",
       "10386     24280\n",
       "10387      1953\n",
       "10388     58696\n",
       "10389     38296\n",
       "10390      2932\n",
       "10391      7184\n",
       "10392    387749\n",
       "10393      7733\n",
       "10394     30597\n",
       "Name: item_id_2, dtype: int64"
      ]
     },
     "execution_count": 35,
     "metadata": {},
     "output_type": "execute_result"
    }
   ],
   "source": [
    "similar_items[similar_items['item_id_1']==7126]['item_id_2']"
   ]
  },
  {
   "cell_type": "code",
   "execution_count": 36,
   "id": "ad6394a4",
   "metadata": {},
   "outputs": [],
   "source": [
    "similar_items.to_parquet(\"similar_items.parquet\") "
   ]
  },
  {
   "cell_type": "code",
   "execution_count": 37,
   "id": "74001a30",
   "metadata": {},
   "outputs": [],
   "source": [
    "def print_sim_items(item_id, similar_items):\n",
    "\n",
    "    item_columns_to_use = [\"item_id\", \"author\", \"title\", \"genre_and_votes\", \"average_rating\", \"ratings_count\"]\n",
    "    \n",
    "    item_id_1 = items.query(\"item_id == @item_id\")[item_columns_to_use]\n",
    "    display(item_id_1)\n",
    "    \n",
    "    si = similar_items.query(\"item_id_1 == @item_id\")\n",
    "    si = si.merge(items[item_columns_to_use].set_index(\"item_id\"), left_on=\"item_id_2\", right_index=True)\n",
    "    display(si)"
   ]
  },
  {
   "cell_type": "code",
   "execution_count": 38,
   "id": "a98b987e",
   "metadata": {},
   "outputs": [
    {
     "data": {
      "application/vnd.microsoft.datawrangler.viewer.v0+json": {
       "columns": [
        {
         "name": "index",
         "rawType": "int64",
         "type": "integer"
        },
        {
         "name": "item_id",
         "rawType": "int64",
         "type": "integer"
        },
        {
         "name": "author",
         "rawType": "object",
         "type": "string"
        },
        {
         "name": "title",
         "rawType": "object",
         "type": "string"
        },
        {
         "name": "genre_and_votes",
         "rawType": "object",
         "type": "string"
        },
        {
         "name": "average_rating",
         "rawType": "float64",
         "type": "float"
        },
        {
         "name": "ratings_count",
         "rawType": "Int64",
         "type": "integer"
        }
       ],
       "ref": "ccde66a7-ed04-426d-9bef-62d2c8bfa095",
       "rows": [
        [
         "1909078",
         "7144",
         "Fyodor Dostoyevsky, David McDuff, Fyodor Dostoyevsky, Michael R. Katz",
         "Crime and Punishment",
         "{'Classics': 15812, 'Fiction': 8028, 'Cultural-Russia': 2148, 'Literature': 1794, 'Literature-Russian Literature': 1570}",
         "4.19",
         "390293"
        ]
       ],
       "shape": {
        "columns": 6,
        "rows": 1
       }
      },
      "text/html": [
       "<div>\n",
       "<style scoped>\n",
       "    .dataframe tbody tr th:only-of-type {\n",
       "        vertical-align: middle;\n",
       "    }\n",
       "\n",
       "    .dataframe tbody tr th {\n",
       "        vertical-align: top;\n",
       "    }\n",
       "\n",
       "    .dataframe thead th {\n",
       "        text-align: right;\n",
       "    }\n",
       "</style>\n",
       "<table border=\"1\" class=\"dataframe\">\n",
       "  <thead>\n",
       "    <tr style=\"text-align: right;\">\n",
       "      <th></th>\n",
       "      <th>item_id</th>\n",
       "      <th>author</th>\n",
       "      <th>title</th>\n",
       "      <th>genre_and_votes</th>\n",
       "      <th>average_rating</th>\n",
       "      <th>ratings_count</th>\n",
       "    </tr>\n",
       "  </thead>\n",
       "  <tbody>\n",
       "    <tr>\n",
       "      <th>1909078</th>\n",
       "      <td>7144</td>\n",
       "      <td>Fyodor Dostoyevsky, David McDuff, Fyodor Dosto...</td>\n",
       "      <td>Crime and Punishment</td>\n",
       "      <td>{'Classics': 15812, 'Fiction': 8028, 'Cultural...</td>\n",
       "      <td>4.19</td>\n",
       "      <td>390293</td>\n",
       "    </tr>\n",
       "  </tbody>\n",
       "</table>\n",
       "</div>"
      ],
      "text/plain": [
       "         item_id                                             author  \\\n",
       "1909078     7144  Fyodor Dostoyevsky, David McDuff, Fyodor Dosto...   \n",
       "\n",
       "                        title  \\\n",
       "1909078  Crime and Punishment   \n",
       "\n",
       "                                           genre_and_votes  average_rating  \\\n",
       "1909078  {'Classics': 15812, 'Fiction': 8028, 'Cultural...            4.19   \n",
       "\n",
       "         ratings_count  \n",
       "1909078         390293  "
      ]
     },
     "metadata": {},
     "output_type": "display_data"
    },
    {
     "data": {
      "application/vnd.microsoft.datawrangler.viewer.v0+json": {
       "columns": [
        {
         "name": "index",
         "rawType": "int64",
         "type": "integer"
        },
        {
         "name": "score",
         "rawType": "float64",
         "type": "float"
        },
        {
         "name": "item_id_1",
         "rawType": "int64",
         "type": "integer"
        },
        {
         "name": "item_id_2",
         "rawType": "int64",
         "type": "integer"
        },
        {
         "name": "author",
         "rawType": "object",
         "type": "string"
        },
        {
         "name": "title",
         "rawType": "object",
         "type": "string"
        },
        {
         "name": "genre_and_votes",
         "rawType": "object",
         "type": "string"
        },
        {
         "name": "average_rating",
         "rawType": "float64",
         "type": "float"
        },
        {
         "name": "ratings_count",
         "rawType": "Int64",
         "type": "integer"
        }
       ],
       "ref": "c2f218d0-bd8a-49c1-9b1f-ee54cbb5af57",
       "rows": [
        [
         "4665",
         "0.9644794464111328",
         "7144",
         "12505",
         "Fyodor Dostoyevsky, Anna Brailovsky, Constance Garnett, Joseph Frank",
         "The Idiot",
         "{'Classics': 4036, 'Fiction': 2576}",
         "4.18",
         "76392"
        ],
        [
         "4666",
         "0.9539180397987366",
         "7144",
         "12857",
         "Fyodor Dostoyevsky, Constance Garnett",
         "The Gambler",
         "{'Classics': 946, 'Fiction': 729, 'Cultural-Russia': 435, 'Literature-Russian Literature': 376, 'Literature': 212, 'Novels': 171, 'th Century': 103, 'Romance': 36, 'Historical-Historical Fiction': 32, 'Roman': 31}",
         "3.88",
         "22024"
        ],
        [
         "4667",
         "0.9520087242126465",
         "7144",
         "67326",
         "Fyodor Dostoyevsky",
         "Poor Folk",
         "{'Classics': 320, 'Fiction': 235, 'Literature-Russian Literature': 199, 'Cultural-Russia': 194, 'Novels': 86, 'Literature': 75}",
         "3.73",
         "4957"
        ],
        [
         "4668",
         "0.946846604347229",
         "7144",
         "5508624",
         "Leo Tolstoy",
         "Family Happiness",
         "{'Classics': 140, 'Fiction': 112, 'Cultural-Russia': 76, 'Literature-Russian Literature': 69, 'Short Stories': 39, 'Literature': 32}",
         "3.85",
         "3337"
        ],
        [
         "4669",
         "0.9397619366645813",
         "7144",
         "4934",
         "Fyodor Dostoyevsky, Fyodor Dostoyevsky, Richard Pevear, Larissa Volokhonsky",
         "The Brothers Karamazov",
         "{'Classics': 7496, 'Fiction': 5491, 'Cultural-Russia': 1575, 'Literature': 1247, 'Literature-Russian Literature': 1110, 'Philosophy': 920, 'Novels': 660, 'th Century': 365, 'Classics-Classic Literature': 294, 'Religion': 237}",
         "4.31",
         "158410"
        ],
        [
         "4670",
         "0.938017725944519",
         "7144",
         "17877",
         "Fyodor Dostoyevsky, Constance Garnett",
         "The House of the Dead",
         "{'Classics': 533, 'Fiction': 441, 'Cultural-Russia': 311, 'Literature-Russian Literature': 292, 'Literature': 135}",
         "4.04",
         "8548"
        ],
        [
         "4671",
         "0.9370070695877075",
         "7144",
         "929782",
         "Jack London, Andrew Sinclair",
         "Martin Eden",
         "{'Classics': 435, 'Fiction': 405, 'Literature-American': 71}",
         "4.39",
         "13257"
        ],
        [
         "4672",
         "0.9363596439361572",
         "7144",
         "28382",
         "Nikolai Gogol",
         "Diary of a Madman and Other Stories",
         "{'Classics': 284, 'Fiction': 243, 'Short Stories': 233, 'Cultural-Russia': 188, 'Literature-Russian Literature': 134, 'Literature': 63}",
         "4.09",
         "6241"
        ],
        [
         "4673",
         "0.936320424079895",
         "7144",
         "17690",
         "Franz Kafka, Max Brod, Willa Muir, Edwin Muir",
         "The Trial",
         "{'Classics': 4607, 'Fiction': 4173, 'Literature': 842, 'Philosophy': 771, 'European Literature-German Literature': 572}",
         "3.98",
         "135862"
        ],
        [
         "4674",
         "0.9345406889915466",
         "7144",
         "63038",
         "Victor Hugo",
         "The Man Who Laughs",
         "{'Classics': 352, 'Fiction': 176, 'Cultural-France': 96, 'Historical-Historical Fiction': 71, 'European Literature-French Literature': 68}",
         "4.22",
         "5449"
        ]
       ],
       "shape": {
        "columns": 8,
        "rows": 10
       }
      },
      "text/html": [
       "<div>\n",
       "<style scoped>\n",
       "    .dataframe tbody tr th:only-of-type {\n",
       "        vertical-align: middle;\n",
       "    }\n",
       "\n",
       "    .dataframe tbody tr th {\n",
       "        vertical-align: top;\n",
       "    }\n",
       "\n",
       "    .dataframe thead th {\n",
       "        text-align: right;\n",
       "    }\n",
       "</style>\n",
       "<table border=\"1\" class=\"dataframe\">\n",
       "  <thead>\n",
       "    <tr style=\"text-align: right;\">\n",
       "      <th></th>\n",
       "      <th>score</th>\n",
       "      <th>item_id_1</th>\n",
       "      <th>item_id_2</th>\n",
       "      <th>author</th>\n",
       "      <th>title</th>\n",
       "      <th>genre_and_votes</th>\n",
       "      <th>average_rating</th>\n",
       "      <th>ratings_count</th>\n",
       "    </tr>\n",
       "  </thead>\n",
       "  <tbody>\n",
       "    <tr>\n",
       "      <th>4665</th>\n",
       "      <td>0.964479</td>\n",
       "      <td>7144</td>\n",
       "      <td>12505</td>\n",
       "      <td>Fyodor Dostoyevsky, Anna Brailovsky, Constance...</td>\n",
       "      <td>The Idiot</td>\n",
       "      <td>{'Classics': 4036, 'Fiction': 2576}</td>\n",
       "      <td>4.18</td>\n",
       "      <td>76392</td>\n",
       "    </tr>\n",
       "    <tr>\n",
       "      <th>4666</th>\n",
       "      <td>0.953918</td>\n",
       "      <td>7144</td>\n",
       "      <td>12857</td>\n",
       "      <td>Fyodor Dostoyevsky, Constance Garnett</td>\n",
       "      <td>The Gambler</td>\n",
       "      <td>{'Classics': 946, 'Fiction': 729, 'Cultural-Ru...</td>\n",
       "      <td>3.88</td>\n",
       "      <td>22024</td>\n",
       "    </tr>\n",
       "    <tr>\n",
       "      <th>4667</th>\n",
       "      <td>0.952009</td>\n",
       "      <td>7144</td>\n",
       "      <td>67326</td>\n",
       "      <td>Fyodor Dostoyevsky</td>\n",
       "      <td>Poor Folk</td>\n",
       "      <td>{'Classics': 320, 'Fiction': 235, 'Literature-...</td>\n",
       "      <td>3.73</td>\n",
       "      <td>4957</td>\n",
       "    </tr>\n",
       "    <tr>\n",
       "      <th>4668</th>\n",
       "      <td>0.946847</td>\n",
       "      <td>7144</td>\n",
       "      <td>5508624</td>\n",
       "      <td>Leo Tolstoy</td>\n",
       "      <td>Family Happiness</td>\n",
       "      <td>{'Classics': 140, 'Fiction': 112, 'Cultural-Ru...</td>\n",
       "      <td>3.85</td>\n",
       "      <td>3337</td>\n",
       "    </tr>\n",
       "    <tr>\n",
       "      <th>4669</th>\n",
       "      <td>0.939762</td>\n",
       "      <td>7144</td>\n",
       "      <td>4934</td>\n",
       "      <td>Fyodor Dostoyevsky, Fyodor Dostoyevsky, Richar...</td>\n",
       "      <td>The Brothers Karamazov</td>\n",
       "      <td>{'Classics': 7496, 'Fiction': 5491, 'Cultural-...</td>\n",
       "      <td>4.31</td>\n",
       "      <td>158410</td>\n",
       "    </tr>\n",
       "    <tr>\n",
       "      <th>4670</th>\n",
       "      <td>0.938018</td>\n",
       "      <td>7144</td>\n",
       "      <td>17877</td>\n",
       "      <td>Fyodor Dostoyevsky, Constance Garnett</td>\n",
       "      <td>The House of the Dead</td>\n",
       "      <td>{'Classics': 533, 'Fiction': 441, 'Cultural-Ru...</td>\n",
       "      <td>4.04</td>\n",
       "      <td>8548</td>\n",
       "    </tr>\n",
       "    <tr>\n",
       "      <th>4671</th>\n",
       "      <td>0.937007</td>\n",
       "      <td>7144</td>\n",
       "      <td>929782</td>\n",
       "      <td>Jack London, Andrew Sinclair</td>\n",
       "      <td>Martin Eden</td>\n",
       "      <td>{'Classics': 435, 'Fiction': 405, 'Literature-...</td>\n",
       "      <td>4.39</td>\n",
       "      <td>13257</td>\n",
       "    </tr>\n",
       "    <tr>\n",
       "      <th>4672</th>\n",
       "      <td>0.936360</td>\n",
       "      <td>7144</td>\n",
       "      <td>28382</td>\n",
       "      <td>Nikolai Gogol</td>\n",
       "      <td>Diary of a Madman and Other Stories</td>\n",
       "      <td>{'Classics': 284, 'Fiction': 243, 'Short Stori...</td>\n",
       "      <td>4.09</td>\n",
       "      <td>6241</td>\n",
       "    </tr>\n",
       "    <tr>\n",
       "      <th>4673</th>\n",
       "      <td>0.936320</td>\n",
       "      <td>7144</td>\n",
       "      <td>17690</td>\n",
       "      <td>Franz Kafka, Max Brod, Willa Muir, Edwin Muir</td>\n",
       "      <td>The Trial</td>\n",
       "      <td>{'Classics': 4607, 'Fiction': 4173, 'Literatur...</td>\n",
       "      <td>3.98</td>\n",
       "      <td>135862</td>\n",
       "    </tr>\n",
       "    <tr>\n",
       "      <th>4674</th>\n",
       "      <td>0.934541</td>\n",
       "      <td>7144</td>\n",
       "      <td>63038</td>\n",
       "      <td>Victor Hugo</td>\n",
       "      <td>The Man Who Laughs</td>\n",
       "      <td>{'Classics': 352, 'Fiction': 176, 'Cultural-Fr...</td>\n",
       "      <td>4.22</td>\n",
       "      <td>5449</td>\n",
       "    </tr>\n",
       "  </tbody>\n",
       "</table>\n",
       "</div>"
      ],
      "text/plain": [
       "         score  item_id_1  item_id_2  \\\n",
       "4665  0.964479       7144      12505   \n",
       "4666  0.953918       7144      12857   \n",
       "4667  0.952009       7144      67326   \n",
       "4668  0.946847       7144    5508624   \n",
       "4669  0.939762       7144       4934   \n",
       "4670  0.938018       7144      17877   \n",
       "4671  0.937007       7144     929782   \n",
       "4672  0.936360       7144      28382   \n",
       "4673  0.936320       7144      17690   \n",
       "4674  0.934541       7144      63038   \n",
       "\n",
       "                                                 author  \\\n",
       "4665  Fyodor Dostoyevsky, Anna Brailovsky, Constance...   \n",
       "4666              Fyodor Dostoyevsky, Constance Garnett   \n",
       "4667                                 Fyodor Dostoyevsky   \n",
       "4668                                        Leo Tolstoy   \n",
       "4669  Fyodor Dostoyevsky, Fyodor Dostoyevsky, Richar...   \n",
       "4670              Fyodor Dostoyevsky, Constance Garnett   \n",
       "4671                       Jack London, Andrew Sinclair   \n",
       "4672                                      Nikolai Gogol   \n",
       "4673      Franz Kafka, Max Brod, Willa Muir, Edwin Muir   \n",
       "4674                                        Victor Hugo   \n",
       "\n",
       "                                    title  \\\n",
       "4665                            The Idiot   \n",
       "4666                          The Gambler   \n",
       "4667                            Poor Folk   \n",
       "4668                     Family Happiness   \n",
       "4669               The Brothers Karamazov   \n",
       "4670                The House of the Dead   \n",
       "4671                          Martin Eden   \n",
       "4672  Diary of a Madman and Other Stories   \n",
       "4673                            The Trial   \n",
       "4674                   The Man Who Laughs   \n",
       "\n",
       "                                        genre_and_votes  average_rating  \\\n",
       "4665                {'Classics': 4036, 'Fiction': 2576}            4.18   \n",
       "4666  {'Classics': 946, 'Fiction': 729, 'Cultural-Ru...            3.88   \n",
       "4667  {'Classics': 320, 'Fiction': 235, 'Literature-...            3.73   \n",
       "4668  {'Classics': 140, 'Fiction': 112, 'Cultural-Ru...            3.85   \n",
       "4669  {'Classics': 7496, 'Fiction': 5491, 'Cultural-...            4.31   \n",
       "4670  {'Classics': 533, 'Fiction': 441, 'Cultural-Ru...            4.04   \n",
       "4671  {'Classics': 435, 'Fiction': 405, 'Literature-...            4.39   \n",
       "4672  {'Classics': 284, 'Fiction': 243, 'Short Stori...            4.09   \n",
       "4673  {'Classics': 4607, 'Fiction': 4173, 'Literatur...            3.98   \n",
       "4674  {'Classics': 352, 'Fiction': 176, 'Cultural-Fr...            4.22   \n",
       "\n",
       "      ratings_count  \n",
       "4665          76392  \n",
       "4666          22024  \n",
       "4667           4957  \n",
       "4668           3337  \n",
       "4669         158410  \n",
       "4670           8548  \n",
       "4671          13257  \n",
       "4672           6241  \n",
       "4673         135862  \n",
       "4674           5449  "
      ]
     },
     "metadata": {},
     "output_type": "display_data"
    }
   ],
   "source": [
    "print_sim_items(7144, similar_items)"
   ]
  }
 ],
 "metadata": {
  "kernelspec": {
   "display_name": "env_recsys_start",
   "language": "python",
   "name": "python3"
  },
  "language_info": {
   "codemirror_mode": {
    "name": "ipython",
    "version": 3
   },
   "file_extension": ".py",
   "mimetype": "text/x-python",
   "name": "python",
   "nbconvert_exporter": "python",
   "pygments_lexer": "ipython3",
   "version": "3.10.12"
  }
 },
 "nbformat": 4,
 "nbformat_minor": 5
}
